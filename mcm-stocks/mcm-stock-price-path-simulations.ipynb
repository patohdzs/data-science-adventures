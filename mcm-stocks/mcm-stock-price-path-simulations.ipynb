{
 "cells": [
  {
   "cell_type": "markdown",
   "metadata": {},
   "source": [
    "# **Bull or Bear? Using MCM simulations to model stock price paths**\n",
    "### Patricio Hernandez Senosiain \n",
    "---"
   ]
  },
  {
   "cell_type": "markdown",
   "metadata": {},
   "source": [
    "## Contents:\n",
    "\n",
    ">[1 - Introduction](#1---Introduction)\n",
    ">\n",
    ">[2 - Importing dependencies](#2---Importing-dependencies)\n",
    ">\n",
    ">[3 - Data retrieval and exploratory analysis](#3---Data-retrieval-and-exploratory-analysis)\n",
    ">\n",
    ">[4 - Data cleaning and preprocessing](#4---Data-cleaning-and-preprocessing)\n",
    ">\n",
    ">[5 - Modelling](#5---Modelling)\n",
    ">\n",
    ">[6 - Conclusion](#6---Conclusion)\n",
    ">\n"
   ]
  },
  {
   "cell_type": "markdown",
   "metadata": {},
   "source": [
    "## 1 - Introduction"
   ]
  },
  {
   "cell_type": "markdown",
   "metadata": {},
   "source": [
    "## 2 - Importing dependencies"
   ]
  },
  {
   "cell_type": "code",
   "execution_count": 27,
   "metadata": {},
   "outputs": [],
   "source": [
    "# Numpy and Pandas - Vecotr and matrix manipulations\n",
    "import numpy as np\n",
    "import pandas as pd\n",
    "\n",
    "# Matplotlib and seaborn - data visualizations\n",
    "import matplotlib.pyplot as plt\n",
    "import seaborn as sns\n",
    "from scipy.stats import norm\n",
    "%matplotlib inline\n"
   ]
  },
  {
   "cell_type": "markdown",
   "metadata": {},
   "source": [
    "## 3 - Data retrieval and exploratory analysis "
   ]
  },
  {
   "cell_type": "code",
   "execution_count": 28,
   "metadata": {},
   "outputs": [],
   "source": [
    "\n",
    "data = pd.read_csv(\"stock_data/NFLX.csv\")\n",
    "\n",
    "\n"
   ]
  },
  {
   "cell_type": "code",
   "execution_count": 29,
   "metadata": {},
   "outputs": [
    {
     "data": {
      "text/html": [
       "<div>\n",
       "<style scoped>\n",
       "    .dataframe tbody tr th:only-of-type {\n",
       "        vertical-align: middle;\n",
       "    }\n",
       "\n",
       "    .dataframe tbody tr th {\n",
       "        vertical-align: top;\n",
       "    }\n",
       "\n",
       "    .dataframe thead th {\n",
       "        text-align: right;\n",
       "    }\n",
       "</style>\n",
       "<table border=\"1\" class=\"dataframe\">\n",
       "  <thead>\n",
       "    <tr style=\"text-align: right;\">\n",
       "      <th></th>\n",
       "      <th>Date</th>\n",
       "      <th>Open</th>\n",
       "      <th>High</th>\n",
       "      <th>Low</th>\n",
       "      <th>Close</th>\n",
       "      <th>Adj Close</th>\n",
       "      <th>Volume</th>\n",
       "    </tr>\n",
       "  </thead>\n",
       "  <tbody>\n",
       "    <tr>\n",
       "      <th>0</th>\n",
       "      <td>2019-10-21</td>\n",
       "      <td>272.890015</td>\n",
       "      <td>279.940002</td>\n",
       "      <td>269.000000</td>\n",
       "      <td>278.049988</td>\n",
       "      <td>278.049988</td>\n",
       "      <td>12599200</td>\n",
       "    </tr>\n",
       "    <tr>\n",
       "      <th>1</th>\n",
       "      <td>2019-10-22</td>\n",
       "      <td>271.160004</td>\n",
       "      <td>275.410004</td>\n",
       "      <td>265.799988</td>\n",
       "      <td>266.690002</td>\n",
       "      <td>266.690002</td>\n",
       "      <td>11802400</td>\n",
       "    </tr>\n",
       "    <tr>\n",
       "      <th>2</th>\n",
       "      <td>2019-10-23</td>\n",
       "      <td>268.059998</td>\n",
       "      <td>273.920013</td>\n",
       "      <td>266.630005</td>\n",
       "      <td>271.269989</td>\n",
       "      <td>271.269989</td>\n",
       "      <td>7133500</td>\n",
       "    </tr>\n",
       "    <tr>\n",
       "      <th>3</th>\n",
       "      <td>2019-10-24</td>\n",
       "      <td>271.809998</td>\n",
       "      <td>274.019989</td>\n",
       "      <td>268.799988</td>\n",
       "      <td>271.500000</td>\n",
       "      <td>271.500000</td>\n",
       "      <td>4827400</td>\n",
       "    </tr>\n",
       "    <tr>\n",
       "      <th>4</th>\n",
       "      <td>2019-10-25</td>\n",
       "      <td>270.679993</td>\n",
       "      <td>277.769989</td>\n",
       "      <td>270.179993</td>\n",
       "      <td>276.820007</td>\n",
       "      <td>276.820007</td>\n",
       "      <td>4747800</td>\n",
       "    </tr>\n",
       "  </tbody>\n",
       "</table>\n",
       "</div>"
      ],
      "text/plain": [
       "         Date        Open        High         Low       Close   Adj Close  \\\n",
       "0  2019-10-21  272.890015  279.940002  269.000000  278.049988  278.049988   \n",
       "1  2019-10-22  271.160004  275.410004  265.799988  266.690002  266.690002   \n",
       "2  2019-10-23  268.059998  273.920013  266.630005  271.269989  271.269989   \n",
       "3  2019-10-24  271.809998  274.019989  268.799988  271.500000  271.500000   \n",
       "4  2019-10-25  270.679993  277.769989  270.179993  276.820007  276.820007   \n",
       "\n",
       "     Volume  \n",
       "0  12599200  \n",
       "1  11802400  \n",
       "2   7133500  \n",
       "3   4827400  \n",
       "4   4747800  "
      ]
     },
     "execution_count": 29,
     "metadata": {},
     "output_type": "execute_result"
    }
   ],
   "source": [
    "data.head()"
   ]
  },
  {
   "cell_type": "code",
   "execution_count": null,
   "metadata": {},
   "outputs": [],
   "source": [
    "\n"
   ]
  },
  {
   "cell_type": "markdown",
   "metadata": {},
   "source": [
    "## 4 - Data cleaning and preprocessing"
   ]
  },
  {
   "cell_type": "markdown",
   "metadata": {},
   "source": [
    "## 5 - Modelling"
   ]
  },
  {
   "cell_type": "markdown",
   "metadata": {},
   "source": [
    "## 6 - Conclusion\n"
   ]
  }
 ],
 "metadata": {
  "kernelspec": {
   "display_name": "Python 3",
   "language": "python",
   "name": "python3"
  },
  "language_info": {
   "codemirror_mode": {
    "name": "ipython",
    "version": 3
   },
   "file_extension": ".py",
   "mimetype": "text/x-python",
   "name": "python",
   "nbconvert_exporter": "python",
   "pygments_lexer": "ipython3",
   "version": "3.7.6"
  }
 },
 "nbformat": 4,
 "nbformat_minor": 4
}
